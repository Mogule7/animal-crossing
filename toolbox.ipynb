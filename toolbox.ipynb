{
 "cells": [
  {
   "cell_type": "code",
   "execution_count": 2,
   "metadata": {},
   "outputs": [],
   "source": [
    "from collections import Counter"
   ]
  },
  {
   "cell_type": "code",
   "execution_count": 3,
   "metadata": {},
   "outputs": [],
   "source": [
    "def crafting_list():\n",
    "    crafting = []\n",
    "    safe_word = 'DONE'\n",
    "    while True:\n",
    "        question = input('Type furniture to be crafted (submit \"Done\" when finished): ').lower()\n",
    "        if question.upper() == safe_word:\n",
    "            break\n",
    "        else:\n",
    "            crafting.append(question)\n",
    "    return crafting"
   ]
  },
  {
   "cell_type": "code",
   "execution_count": 12,
   "metadata": {},
   "outputs": [],
   "source": [
    "crafting = crafting_list()"
   ]
  },
  {
   "cell_type": "code",
   "execution_count": 5,
   "metadata": {},
   "outputs": [],
   "source": [
    "def get_combined_materials(craftable, crafting):\n",
    "    materials_dict = {}\n",
    "    name_counter = Counter(crafting)\n",
    "\n",
    "    for item in craftable:\n",
    "        name = item['name']\n",
    "        count = name_counter[name]\n",
    "        if count > 0:\n",
    "            materials = item['materials']\n",
    "            for material, quantity in materials.items():\n",
    "                materials_dict[material] = materials_dict.get(material, 0) + count * quantity\n",
    "            name_counter[name] = 0\n",
    "\n",
    "    return materials_dict"
   ]
  },
  {
   "cell_type": "code",
   "execution_count": 13,
   "metadata": {},
   "outputs": [
    {
     "data": {
      "text/plain": [
       "Counter({'ocarina': 1, 'cherry lamp': 1})"
      ]
     },
     "execution_count": 13,
     "metadata": {},
     "output_type": "execute_result"
    }
   ],
   "source": [
    "#get_combined_materials(cr, crafting)\n",
    "name_counter = Counter(crafting)\n",
    "name_counter"
   ]
  }
 ],
 "metadata": {
  "kernelspec": {
   "display_name": "Python 3",
   "language": "python",
   "name": "python3"
  },
  "language_info": {
   "codemirror_mode": {
    "name": "ipython",
    "version": 3
   },
   "file_extension": ".py",
   "mimetype": "text/x-python",
   "name": "python",
   "nbconvert_exporter": "python",
   "pygments_lexer": "ipython3",
   "version": "3.10.4"
  },
  "orig_nbformat": 4
 },
 "nbformat": 4,
 "nbformat_minor": 2
}
