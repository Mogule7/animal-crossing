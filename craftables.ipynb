{
 "cells": [
  {
   "cell_type": "code",
   "execution_count": 1,
   "metadata": {},
   "outputs": [],
   "source": [
    "import pandas as pd\n",
    "import ast"
   ]
  },
  {
   "cell_type": "code",
   "execution_count": 2,
   "metadata": {},
   "outputs": [],
   "source": [
    "raw = pd.read_csv(\"c:/Users/David/Documents/Python Projects/Animal Crossing/Crafting Calculator/recipes.csv\")"
   ]
  },
  {
   "cell_type": "code",
   "execution_count": 3,
   "metadata": {},
   "outputs": [],
   "source": [
    "df = raw[['Internal ID', 'Name', 'Material 1', '#1', 'Material 2', '#2', 'Material 3', '#3', 'Material 4', '#4', 'Material 5', '#5', 'Material 6', '#6', 'Source', 'Category']]"
   ]
  },
  {
   "cell_type": "code",
   "execution_count": 4,
   "metadata": {},
   "outputs": [],
   "source": [
    "columns_to_convert = ['#2', '#3', '#4', '#5', '#6']\n",
    "df.loc[:, columns_to_convert] = df.loc[:, columns_to_convert].apply(pd.to_numeric, errors='coerce').fillna(0).astype(str)\n",
    "df.loc[:, columns_to_convert] = df.loc[:, columns_to_convert].astype(float)\n",
    "df.loc[:, columns_to_convert] = df.loc[:, columns_to_convert].astype('Int64')"
   ]
  },
  {
   "cell_type": "code",
   "execution_count": 5,
   "metadata": {},
   "outputs": [],
   "source": [
    "material_columns = [f'Material {i}' for i in range(1, 7)]\n",
    "for column in material_columns:\n",
    "    df.loc[df[column].notnull(), column] = df.loc[df[column].notnull(), column].apply(lambda x: f\"'{x}'\")"
   ]
  },
  {
   "cell_type": "code",
   "execution_count": 6,
   "metadata": {},
   "outputs": [
    {
     "name": "stderr",
     "output_type": "stream",
     "text": [
      "C:\\Users\\David\\AppData\\Local\\Temp\\ipykernel_2908\\787808028.py:1: SettingWithCopyWarning: \n",
      "A value is trying to be set on a copy of a slice from a DataFrame.\n",
      "Try using .loc[row_indexer,col_indexer] = value instead\n",
      "\n",
      "See the caveats in the documentation: https://pandas.pydata.org/pandas-docs/stable/user_guide/indexing.html#returning-a-view-versus-a-copy\n",
      "  df.loc[:, 'mat1'] = None\n"
     ]
    },
    {
     "data": {
      "text/html": [
       "<div>\n",
       "<style scoped>\n",
       "    .dataframe tbody tr th:only-of-type {\n",
       "        vertical-align: middle;\n",
       "    }\n",
       "\n",
       "    .dataframe tbody tr th {\n",
       "        vertical-align: top;\n",
       "    }\n",
       "\n",
       "    .dataframe thead th {\n",
       "        text-align: right;\n",
       "    }\n",
       "</style>\n",
       "<table border=\"1\" class=\"dataframe\">\n",
       "  <thead>\n",
       "    <tr style=\"text-align: right;\">\n",
       "      <th></th>\n",
       "      <th>Internal ID</th>\n",
       "      <th>Name</th>\n",
       "      <th>Material 1</th>\n",
       "      <th>#1</th>\n",
       "      <th>Material 2</th>\n",
       "      <th>#2</th>\n",
       "      <th>Material 3</th>\n",
       "      <th>#3</th>\n",
       "      <th>Material 4</th>\n",
       "      <th>#4</th>\n",
       "      <th>Material 5</th>\n",
       "      <th>#5</th>\n",
       "      <th>Material 6</th>\n",
       "      <th>#6</th>\n",
       "      <th>Source</th>\n",
       "      <th>Category</th>\n",
       "      <th>mat1</th>\n",
       "    </tr>\n",
       "  </thead>\n",
       "  <tbody>\n",
       "    <tr>\n",
       "      <th>0</th>\n",
       "      <td>632</td>\n",
       "      <td>acorn pochette</td>\n",
       "      <td>'acorn'</td>\n",
       "      <td>6</td>\n",
       "      <td>NaN</td>\n",
       "      <td>0</td>\n",
       "      <td>NaN</td>\n",
       "      <td>0</td>\n",
       "      <td>NaN</td>\n",
       "      <td>0</td>\n",
       "      <td>NaN</td>\n",
       "      <td>0</td>\n",
       "      <td>NaN</td>\n",
       "      <td>0</td>\n",
       "      <td>Balloons</td>\n",
       "      <td>Equipment</td>\n",
       "      <td>'acorn': 6</td>\n",
       "    </tr>\n",
       "    <tr>\n",
       "      <th>1</th>\n",
       "      <td>838</td>\n",
       "      <td>acorn rug</td>\n",
       "      <td>'acorn'</td>\n",
       "      <td>6</td>\n",
       "      <td>NaN</td>\n",
       "      <td>0</td>\n",
       "      <td>NaN</td>\n",
       "      <td>0</td>\n",
       "      <td>NaN</td>\n",
       "      <td>0</td>\n",
       "      <td>NaN</td>\n",
       "      <td>0</td>\n",
       "      <td>NaN</td>\n",
       "      <td>0</td>\n",
       "      <td>Balloons</td>\n",
       "      <td>Rugs</td>\n",
       "      <td>'acorn': 6</td>\n",
       "    </tr>\n",
       "    <tr>\n",
       "      <th>2</th>\n",
       "      <td>44</td>\n",
       "      <td>acoustic guitar</td>\n",
       "      <td>'softwood'</td>\n",
       "      <td>8</td>\n",
       "      <td>'iron nugget'</td>\n",
       "      <td>3</td>\n",
       "      <td>NaN</td>\n",
       "      <td>0</td>\n",
       "      <td>NaN</td>\n",
       "      <td>0</td>\n",
       "      <td>NaN</td>\n",
       "      <td>0</td>\n",
       "      <td>NaN</td>\n",
       "      <td>0</td>\n",
       "      <td>Smug villagers</td>\n",
       "      <td>Housewares</td>\n",
       "      <td>'softwood': 8</td>\n",
       "    </tr>\n",
       "    <tr>\n",
       "      <th>3</th>\n",
       "      <td>943</td>\n",
       "      <td>aji fry</td>\n",
       "      <td>'horse mackerel'</td>\n",
       "      <td>1</td>\n",
       "      <td>'flour'</td>\n",
       "      <td>1</td>\n",
       "      <td>NaN</td>\n",
       "      <td>0</td>\n",
       "      <td>NaN</td>\n",
       "      <td>0</td>\n",
       "      <td>NaN</td>\n",
       "      <td>0</td>\n",
       "      <td>NaN</td>\n",
       "      <td>0</td>\n",
       "      <td>Catching a horse mackerel</td>\n",
       "      <td>Savory</td>\n",
       "      <td>'horse mackerel': 1</td>\n",
       "    </tr>\n",
       "    <tr>\n",
       "      <th>4</th>\n",
       "      <td>958</td>\n",
       "      <td>anchoas al ajillo</td>\n",
       "      <td>'anchovy'</td>\n",
       "      <td>2</td>\n",
       "      <td>NaN</td>\n",
       "      <td>0</td>\n",
       "      <td>NaN</td>\n",
       "      <td>0</td>\n",
       "      <td>NaN</td>\n",
       "      <td>0</td>\n",
       "      <td>NaN</td>\n",
       "      <td>0</td>\n",
       "      <td>NaN</td>\n",
       "      <td>0</td>\n",
       "      <td>Catching an anchovy</td>\n",
       "      <td>Savory</td>\n",
       "      <td>'anchovy': 2</td>\n",
       "    </tr>\n",
       "  </tbody>\n",
       "</table>\n",
       "</div>"
      ],
      "text/plain": [
       "   Internal ID               Name        Material 1  #1     Material 2 #2  \\\n",
       "0          632     acorn pochette           'acorn'   6            NaN  0   \n",
       "1          838          acorn rug           'acorn'   6            NaN  0   \n",
       "2           44    acoustic guitar        'softwood'   8  'iron nugget'  3   \n",
       "3          943            aji fry  'horse mackerel'   1        'flour'  1   \n",
       "4          958  anchoas al ajillo         'anchovy'   2            NaN  0   \n",
       "\n",
       "  Material 3 #3 Material 4 #4 Material 5 #5 Material 6 #6  \\\n",
       "0        NaN  0        NaN  0        NaN  0        NaN  0   \n",
       "1        NaN  0        NaN  0        NaN  0        NaN  0   \n",
       "2        NaN  0        NaN  0        NaN  0        NaN  0   \n",
       "3        NaN  0        NaN  0        NaN  0        NaN  0   \n",
       "4        NaN  0        NaN  0        NaN  0        NaN  0   \n",
       "\n",
       "                      Source    Category                 mat1  \n",
       "0                   Balloons   Equipment           'acorn': 6  \n",
       "1                   Balloons        Rugs           'acorn': 6  \n",
       "2             Smug villagers  Housewares        'softwood': 8  \n",
       "3  Catching a horse mackerel      Savory  'horse mackerel': 1  \n",
       "4        Catching an anchovy      Savory         'anchovy': 2  "
      ]
     },
     "execution_count": 6,
     "metadata": {},
     "output_type": "execute_result"
    }
   ],
   "source": [
    "df.loc[:, 'mat1'] = None\n",
    "df.loc[df['#1'] > 0, 'mat1'] = df['Material 1'].astype(str) + \": \" + df['#1'].astype(str)\n",
    "df.head()"
   ]
  },
  {
   "cell_type": "code",
   "execution_count": 7,
   "metadata": {},
   "outputs": [],
   "source": [
    "# def combine_materials(new_column_name, col1, col2, data=df):\n",
    "    # data.loc[:, new_column_name] = None\n",
    "    # data.loc[data[col2] > 0, new_column_name] = data[col1].astype(str) + \": \" + data[col2].astype(str)\n",
    "#     return data"
   ]
  },
  {
   "cell_type": "code",
   "execution_count": 8,
   "metadata": {},
   "outputs": [
    {
     "ename": "AttributeError",
     "evalue": "'NoneType' object has no attribute 'loc'",
     "output_type": "error",
     "traceback": [
      "\u001b[1;31m---------------------------------------------------------------------------\u001b[0m",
      "\u001b[1;31mAttributeError\u001b[0m                            Traceback (most recent call last)",
      "Cell \u001b[1;32mIn[8], line 11\u001b[0m\n\u001b[0;32m      1\u001b[0m new_columns \u001b[38;5;241m=\u001b[39m {\n\u001b[0;32m      2\u001b[0m     \u001b[38;5;124m'\u001b[39m\u001b[38;5;124mmat1\u001b[39m\u001b[38;5;124m'\u001b[39m : [\u001b[38;5;124m'\u001b[39m\u001b[38;5;124mMaterial 1\u001b[39m\u001b[38;5;124m'\u001b[39m, \u001b[38;5;124m'\u001b[39m\u001b[38;5;124m#1\u001b[39m\u001b[38;5;124m'\u001b[39m],\n\u001b[0;32m      3\u001b[0m     \u001b[38;5;124m'\u001b[39m\u001b[38;5;124mmat2\u001b[39m\u001b[38;5;124m'\u001b[39m: [\u001b[38;5;124m'\u001b[39m\u001b[38;5;124mMaterial 2\u001b[39m\u001b[38;5;124m'\u001b[39m, \u001b[38;5;124m'\u001b[39m\u001b[38;5;124m#2\u001b[39m\u001b[38;5;124m'\u001b[39m],\n\u001b[1;32m   (...)\u001b[0m\n\u001b[0;32m      7\u001b[0m     \u001b[38;5;124m'\u001b[39m\u001b[38;5;124mmat6\u001b[39m\u001b[38;5;124m'\u001b[39m: [\u001b[38;5;124m'\u001b[39m\u001b[38;5;124mMaterial 6\u001b[39m\u001b[38;5;124m'\u001b[39m, \u001b[38;5;124m'\u001b[39m\u001b[38;5;124m#6\u001b[39m\u001b[38;5;124m'\u001b[39m],\n\u001b[0;32m      8\u001b[0m }\n\u001b[0;32m     10\u001b[0m \u001b[38;5;28;01mfor\u001b[39;00m column \u001b[38;5;129;01min\u001b[39;00m new_columns:\n\u001b[1;32m---> 11\u001b[0m     df \u001b[38;5;241m=\u001b[39m \u001b[43mdf\u001b[49m\u001b[38;5;241;43m.\u001b[39;49m\u001b[43mloc\u001b[49m[:, new_columns[column]] \u001b[38;5;241m=\u001b[39m \u001b[38;5;28;01mNone\u001b[39;00m\n\u001b[0;32m     12\u001b[0m     df\u001b[38;5;241m.\u001b[39mloc[df[new_columns[column][\u001b[38;5;241m1\u001b[39m]] \u001b[38;5;241m>\u001b[39m \u001b[38;5;241m0\u001b[39m, new_columns[column]] \u001b[38;5;241m=\u001b[39m df[new_columns[column][\u001b[38;5;241m0\u001b[39m]]\u001b[38;5;241m.\u001b[39mastype(\u001b[38;5;28mstr\u001b[39m) \u001b[38;5;241m+\u001b[39m \u001b[38;5;124m\"\u001b[39m\u001b[38;5;124m: \u001b[39m\u001b[38;5;124m\"\u001b[39m \u001b[38;5;241m+\u001b[39m df[new_columns[column][\u001b[38;5;241m1\u001b[39m]]\u001b[38;5;241m.\u001b[39mastype(\u001b[38;5;28mstr\u001b[39m)\n",
      "\u001b[1;31mAttributeError\u001b[0m: 'NoneType' object has no attribute 'loc'"
     ]
    }
   ],
   "source": [
    "new_columns = {\n",
    "    'mat1' : ['Material 1', '#1'],\n",
    "    'mat2': ['Material 2', '#2'],\n",
    "    'mat3' : ['Material 3', '#3'],\n",
    "    'mat4': ['Material 4', '#4'],\n",
    "    'mat5' : ['Material 5', '#5'],\n",
    "    'mat6': ['Material 6', '#6'],\n",
    "}\n",
    "\n",
    "for column in new_columns:\n",
    "    df = df.loc[:, new_columns[column]] = None\n",
    "    df.loc[df[new_columns[column][1]] > 0, new_columns[column]] = df[new_columns[column][0]].astype(str) + \": \" + df[new_columns[column][1]].astype(str)"
   ]
  },
  {
   "cell_type": "code",
   "execution_count": null,
   "metadata": {},
   "outputs": [],
   "source": [
    "print(new_columns['mat2'])"
   ]
  },
  {
   "cell_type": "code",
   "execution_count": null,
   "metadata": {},
   "outputs": [],
   "source": [
    "columns_to_join = ['mat1', 'mat2', 'mat3', 'mat4', 'mat5', 'mat6']\n",
    "df.loc[:, ['materials']] = df[columns_to_join].apply(lambda row: ', '.join(map(str, [val for val in row if pd.notnull(val)])), axis=1)\n",
    "columns_to_drop = ['Material 1', '#1', 'Material 2', '#2', 'Material 3', '#3', 'Material 4', '#4', 'Material 5', '#5', 'Material 6', '#6']\n",
    "df = df.drop(columns = columns_to_join)\n",
    "df = df.drop(columns = columns_to_drop)"
   ]
  },
  {
   "cell_type": "code",
   "execution_count": null,
   "metadata": {},
   "outputs": [],
   "source": [
    "df.loc[:, 'materials'] = df.loc[:, 'materials'].apply(lambda x:'{' + x + '}')\n",
    "df = df.rename(columns={'Internal ID': 'id', 'Name': 'name', 'Source': 'source', 'Category': 'category'}).sort_values('id')"
   ]
  },
  {
   "cell_type": "code",
   "execution_count": null,
   "metadata": {},
   "outputs": [],
   "source": [
    "#df['name'] = df['name'].str.title()\n",
    "df['name'] = df['name'].str.lower()\n",
    "df['source'] = df['source'].str.title()\n",
    "df['materials'] = df['materials'].str.title()"
   ]
  },
  {
   "cell_type": "code",
   "execution_count": null,
   "metadata": {},
   "outputs": [],
   "source": [
    "craftables = df.to_dict(orient='records')\n"
   ]
  },
  {
   "cell_type": "code",
   "execution_count": null,
   "metadata": {},
   "outputs": [],
   "source": [
    "\n",
    "# Convert 'materials' values to dictionaries and remove single quotes\n",
    "for item in craftables:\n",
    "    item['materials'] = ast.literal_eval(item['materials'])\n",
    "\n",
    "craftables"
   ]
  }
 ],
 "metadata": {
  "kernelspec": {
   "display_name": "Python 3",
   "language": "python",
   "name": "python3"
  },
  "language_info": {
   "codemirror_mode": {
    "name": "ipython",
    "version": 3
   },
   "file_extension": ".py",
   "mimetype": "text/x-python",
   "name": "python",
   "nbconvert_exporter": "python",
   "pygments_lexer": "ipython3",
   "version": "3.10.4"
  },
  "orig_nbformat": 4
 },
 "nbformat": 4,
 "nbformat_minor": 2
}
